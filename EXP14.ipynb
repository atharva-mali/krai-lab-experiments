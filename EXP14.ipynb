{
 "cells": [
  {
   "cell_type": "code",
   "execution_count": 1,
   "id": "e738b4df3dbef351",
   "metadata": {
    "ExecuteTime": {
     "end_time": "2024-09-11T07:34:00.753541Z",
     "start_time": "2024-09-11T07:33:58.393321Z"
    }
   },
   "outputs": [],
   "source": "from tensorflow.keras.datasets import mnist"
  },
  {
   "cell_type": "code",
   "execution_count": 2,
   "id": "74f4429dd775b35c",
   "metadata": {
    "ExecuteTime": {
     "end_time": "2024-09-11T07:34:03.718030Z",
     "start_time": "2024-09-11T07:34:00.753541Z"
    }
   },
   "outputs": [
    {
     "name": "stdout",
     "output_type": "stream",
     "text": [
      "Downloading data from https://storage.googleapis.com/tensorflow/tf-keras-datasets/mnist.npz\n",
      "11490434/11490434 [==============================] - 2s 0us/step\n"
     ]
    }
   ],
   "source": "(x_train, y_train), (x_test, y_test) = mnist.load_data()"
  },
  {
   "cell_type": "code",
   "execution_count": 3,
   "id": "90ebce0701faf54c",
   "metadata": {
    "ExecuteTime": {
     "end_time": "2024-09-11T07:34:03.733065Z",
     "start_time": "2024-09-11T07:34:03.720010Z"
    }
   },
   "outputs": [
    {
     "data": {
      "text/plain": [
       "(60000, 28, 28)"
      ]
     },
     "execution_count": 3,
     "metadata": {},
     "output_type": "execute_result"
    }
   ],
   "source": "x_train.shape"
  },
  {
   "cell_type": "code",
   "execution_count": 4,
   "id": "30756755dfafdaa1",
   "metadata": {
    "ExecuteTime": {
     "end_time": "2024-09-11T07:34:03.748314Z",
     "start_time": "2024-09-11T07:34:03.735068Z"
    }
   },
   "outputs": [],
   "source": [
    "X_train = x_train.reshape(60000, 784)\n",
    "X_test = x_test.reshape(10000, 784)"
   ]
  },
  {
   "cell_type": "code",
   "execution_count": 5,
   "id": "2ca0f41e5d23566d",
   "metadata": {
    "ExecuteTime": {
     "end_time": "2024-09-11T07:34:03.764433Z",
     "start_time": "2024-09-11T07:34:03.750434Z"
    }
   },
   "outputs": [],
   "source": "from tensorflow.keras.utils import to_categorical"
  },
  {
   "cell_type": "code",
   "execution_count": 6,
   "id": "56328166ccc9290b",
   "metadata": {
    "ExecuteTime": {
     "end_time": "2024-09-11T07:34:03.779633Z",
     "start_time": "2024-09-11T07:34:03.765940Z"
    }
   },
   "outputs": [],
   "source": [
    "y_train = to_categorical(y_train, num_classes=10)\n",
    "y_test = to_categorical(y_test, num_classes=10)"
   ]
  },
  {
   "cell_type": "code",
   "execution_count": 7,
   "id": "99c48b86f1a374a8",
   "metadata": {
    "ExecuteTime": {
     "end_time": "2024-09-11T07:34:03.918079Z",
     "start_time": "2024-09-11T07:34:03.780647Z"
    }
   },
   "outputs": [],
   "source": [
    "X_train = X_train / 255\n",
    "X_test = X_test / 255"
   ]
  },
  {
   "cell_type": "code",
   "execution_count": 8,
   "id": "68b367e4283cad9b",
   "metadata": {
    "ExecuteTime": {
     "end_time": "2024-09-11T07:34:03.933707Z",
     "start_time": "2024-09-11T07:34:03.919082Z"
    }
   },
   "outputs": [],
   "source": [
    "from tensorflow.keras.models import Sequential\n",
    "from tensorflow.keras.layers import Dense"
   ]
  },
  {
   "cell_type": "code",
   "execution_count": 9,
   "id": "9ac2f537aaf41431",
   "metadata": {
    "ExecuteTime": {
     "end_time": "2024-09-11T07:34:04.011178Z",
     "start_time": "2024-09-11T07:34:03.935237Z"
    }
   },
   "outputs": [],
   "source": [
    "model = Sequential()\n",
    "model.add(Dense(50, activation='relu', input_shape=(784,)))\n",
    "model.add(Dense(50, activation='relu'))\n",
    "model.add(Dense(10, activation='softmax'))"
   ]
  },
  {
   "cell_type": "code",
   "execution_count": 10,
   "id": "f4309eca6f8f61fa",
   "metadata": {
    "ExecuteTime": {
     "end_time": "2024-09-11T07:34:04.026382Z",
     "start_time": "2024-09-11T07:34:04.013254Z"
    }
   },
   "outputs": [
    {
     "name": "stdout",
     "output_type": "stream",
     "text": [
      "Model: \"sequential\"\n",
      "_________________________________________________________________\n",
      " Layer (type)                Output Shape              Param #   \n",
      "=================================================================\n",
      " dense (Dense)               (None, 50)                39250     \n",
      "                                                                 \n",
      " dense_1 (Dense)             (None, 50)                2550      \n",
      "                                                                 \n",
      " dense_2 (Dense)             (None, 10)                510       \n",
      "                                                                 \n",
      "=================================================================\n",
      "Total params: 42,310\n",
      "Trainable params: 42,310\n",
      "Non-trainable params: 0\n",
      "_________________________________________________________________\n"
     ]
    }
   ],
   "source": "model.summary()"
  },
  {
   "cell_type": "code",
   "execution_count": 11,
   "id": "743415c9a97f8948",
   "metadata": {
    "ExecuteTime": {
     "end_time": "2024-09-11T07:34:04.042263Z",
     "start_time": "2024-09-11T07:34:04.027520Z"
    }
   },
   "outputs": [],
   "source": "model.compile(loss='categorical_crossentropy', metrics=['accuracy'])"
  },
  {
   "cell_type": "code",
   "execution_count": 12,
   "id": "2aaabb99db4dbc0f",
   "metadata": {
    "ExecuteTime": {
     "end_time": "2024-09-11T07:34:19.437725Z",
     "start_time": "2024-09-11T07:34:04.043263Z"
    }
   },
   "outputs": [
    {
     "name": "stdout",
     "output_type": "stream",
     "text": [
      "Epoch 1/10\n",
      "938/938 [==============================] - 2s 2ms/step - loss: 0.3448 - accuracy: 0.9024 - val_loss: 0.2021 - val_accuracy: 0.9379\n",
      "Epoch 2/10\n",
      "938/938 [==============================] - 1s 1ms/step - loss: 0.1668 - accuracy: 0.9506 - val_loss: 0.1404 - val_accuracy: 0.9573\n",
      "Epoch 3/10\n",
      "938/938 [==============================] - 1s 1ms/step - loss: 0.1239 - accuracy: 0.9628 - val_loss: 0.1338 - val_accuracy: 0.9617\n",
      "Epoch 4/10\n",
      "938/938 [==============================] - 1s 1ms/step - loss: 0.1031 - accuracy: 0.9695 - val_loss: 0.1047 - val_accuracy: 0.9693\n",
      "Epoch 5/10\n",
      "938/938 [==============================] - 1s 1ms/step - loss: 0.0877 - accuracy: 0.9733 - val_loss: 0.0994 - val_accuracy: 0.9693\n",
      "Epoch 6/10\n",
      "938/938 [==============================] - 1s 1ms/step - loss: 0.0780 - accuracy: 0.9771 - val_loss: 0.1005 - val_accuracy: 0.9698\n",
      "Epoch 7/10\n",
      "938/938 [==============================] - 2s 2ms/step - loss: 0.0704 - accuracy: 0.9794 - val_loss: 0.1005 - val_accuracy: 0.9723\n",
      "Epoch 8/10\n",
      "938/938 [==============================] - 1s 1ms/step - loss: 0.0627 - accuracy: 0.9809 - val_loss: 0.0994 - val_accuracy: 0.9732\n",
      "Epoch 9/10\n",
      "938/938 [==============================] - 2s 2ms/step - loss: 0.0581 - accuracy: 0.9829 - val_loss: 0.1146 - val_accuracy: 0.9683\n",
      "Epoch 10/10\n",
      "938/938 [==============================] - 2s 2ms/step - loss: 0.0535 - accuracy: 0.9840 - val_loss: 0.1033 - val_accuracy: 0.9737\n"
     ]
    },
    {
     "data": {
      "text/plain": [
       "<keras.callbacks.History at 0x1b574cc9ee0>"
      ]
     },
     "execution_count": 12,
     "metadata": {},
     "output_type": "execute_result"
    }
   ],
   "source": "model.fit(X_train, y_train, batch_size=64, epochs=10, validation_data=(X_test, y_test))"
  },
  {
   "cell_type": "code",
   "execution_count": 13,
   "id": "c60b546e42a255a1",
   "metadata": {
    "ExecuteTime": {
     "end_time": "2024-09-11T07:34:19.453730Z",
     "start_time": "2024-09-11T07:34:19.440734Z"
    }
   },
   "outputs": [],
   "source": "import numpy as np"
  },
  {
   "cell_type": "code",
   "execution_count": 14,
   "id": "cdaca7f5462137f0",
   "metadata": {
    "ExecuteTime": {
     "end_time": "2024-09-11T07:34:19.469730Z",
     "start_time": "2024-09-11T07:34:19.455732Z"
    }
   },
   "outputs": [
    {
     "data": {
      "text/plain": [
       "array([[0., 0., 0., ..., 0., 0., 0.],\n",
       "       [0., 0., 0., ..., 0., 0., 0.],\n",
       "       [0., 0., 0., ..., 0., 0., 0.],\n",
       "       ...,\n",
       "       [0., 0., 0., ..., 0., 0., 0.],\n",
       "       [0., 0., 0., ..., 0., 0., 0.],\n",
       "       [0., 0., 0., ..., 0., 0., 0.]])"
      ]
     },
     "execution_count": 14,
     "metadata": {},
     "output_type": "execute_result"
    }
   ],
   "source": [
    "X_train\n"
   ]
  },
  {
   "cell_type": "code",
   "execution_count": 15,
   "id": "7c446aa19158efb2",
   "metadata": {
    "ExecuteTime": {
     "end_time": "2024-09-11T07:34:19.485733Z",
     "start_time": "2024-09-11T07:34:19.473734Z"
    }
   },
   "outputs": [
    {
     "data": {
      "text/plain": [
       "array([[0., 0., 0., 0., 0., 1., 0., 0., 0., 0.],\n",
       "       [1., 0., 0., 0., 0., 0., 0., 0., 0., 0.],\n",
       "       [0., 0., 0., 0., 1., 0., 0., 0., 0., 0.],\n",
       "       [0., 1., 0., 0., 0., 0., 0., 0., 0., 0.],\n",
       "       [0., 0., 0., 0., 0., 0., 0., 0., 0., 1.]], dtype=float32)"
      ]
     },
     "execution_count": 15,
     "metadata": {},
     "output_type": "execute_result"
    }
   ],
   "source": [
    "y_train[:5, :]\n"
   ]
  },
  {
   "cell_type": "code",
   "execution_count": 16,
   "id": "c4d8b3dd52907871",
   "metadata": {
    "ExecuteTime": {
     "end_time": "2024-09-11T07:34:19.640644Z",
     "start_time": "2024-09-11T07:34:19.487734Z"
    }
   },
   "outputs": [
    {
     "name": "stdout",
     "output_type": "stream",
     "text": [
      "1/1 [==============================] - 0s 95ms/step\n"
     ]
    },
    {
     "data": {
      "text/plain": [
       "5"
      ]
     },
     "execution_count": 16,
     "metadata": {},
     "output_type": "execute_result"
    }
   ],
   "source": [
    "img0 = np.array(X_train[0]).reshape(1, 784)\n",
    "model.predict(img0).argmax()\n"
   ]
  },
  {
   "cell_type": "code",
   "execution_count": 17,
   "id": "f76fa05f5cae028c",
   "metadata": {
    "ExecuteTime": {
     "end_time": "2024-09-11T07:34:19.656643Z",
     "start_time": "2024-09-11T07:34:19.641645Z"
    }
   },
   "outputs": [],
   "source": [
    "def recognise(img):\n",
    "    img = np.array(img).reshape(1, 784)\n",
    "    return model.predict(img).argmax()\n"
   ]
  },
  {
   "cell_type": "code",
   "execution_count": 18,
   "id": "b14b0d6b9d2600e2",
   "metadata": {
    "ExecuteTime": {
     "end_time": "2024-09-11T07:34:20.155944Z",
     "start_time": "2024-09-11T07:34:19.658645Z"
    }
   },
   "outputs": [
    {
     "name": "stdout",
     "output_type": "stream",
     "text": [
      "313/313 [==============================] - 0s 780us/step\n"
     ]
    }
   ],
   "source": [
    "y_pre = model.predict(X_test).argmax(axis=1)\n"
   ]
  },
  {
   "cell_type": "code",
   "execution_count": 19,
   "id": "e967b54275313bf4",
   "metadata": {
    "ExecuteTime": {
     "end_time": "2024-09-11T07:34:20.171570Z",
     "start_time": "2024-09-11T07:34:20.155944Z"
    }
   },
   "outputs": [
    {
     "data": {
      "text/plain": [
       "array([7, 2, 1, ..., 4, 5, 6], dtype=int64)"
      ]
     },
     "execution_count": 19,
     "metadata": {},
     "output_type": "execute_result"
    }
   ],
   "source": "y_pre"
  },
  {
   "cell_type": "code",
   "execution_count": 20,
   "id": "34e1e6dedad700d7",
   "metadata": {
    "ExecuteTime": {
     "end_time": "2024-09-11T07:34:20.187195Z",
     "start_time": "2024-09-11T07:34:20.171570Z"
    }
   },
   "outputs": [
    {
     "data": {
      "text/plain": [
       "10000"
      ]
     },
     "execution_count": 20,
     "metadata": {},
     "output_type": "execute_result"
    }
   ],
   "source": "len(y_pre)"
  },
  {
   "cell_type": "code",
   "execution_count": 21,
   "id": "1e6bf3147c4a683b",
   "metadata": {
    "ExecuteTime": {
     "end_time": "2024-09-11T07:34:20.203165Z",
     "start_time": "2024-09-11T07:34:20.187195Z"
    }
   },
   "outputs": [
    {
     "data": {
      "text/plain": [
       "array([7, 2, 1, ..., 4, 5, 6], dtype=int64)"
      ]
     },
     "execution_count": 21,
     "metadata": {},
     "output_type": "execute_result"
    }
   ],
   "source": "y_test.argmax(axis=1)"
  },
  {
   "cell_type": "code",
   "execution_count": 22,
   "id": "f236e993ce16e72d",
   "metadata": {
    "ExecuteTime": {
     "end_time": "2024-09-11T07:34:20.218971Z",
     "start_time": "2024-09-11T07:34:20.203165Z"
    }
   },
   "outputs": [
    {
     "data": {
      "text/plain": [
       "9737"
      ]
     },
     "execution_count": 22,
     "metadata": {},
     "output_type": "execute_result"
    }
   ],
   "source": "sum(y_pre == y_test.argmax(axis=1))"
  },
  {
   "cell_type": "code",
   "execution_count": 23,
   "id": "35cf26fdfcd35938",
   "metadata": {
    "ExecuteTime": {
     "end_time": "2024-09-11T07:34:20.235061Z",
     "start_time": "2024-09-11T07:34:20.218971Z"
    }
   },
   "outputs": [
    {
     "data": {
      "text/plain": [
       "0.9737"
      ]
     },
     "execution_count": 23,
     "metadata": {},
     "output_type": "execute_result"
    }
   ],
   "source": [
    "9737 / 10000\n"
   ]
  },
  {
   "cell_type": "code",
   "execution_count": 24,
   "id": "6aa736e321323ed9",
   "metadata": {
    "ExecuteTime": {
     "end_time": "2024-09-11T07:35:52.343514Z",
     "start_time": "2024-09-11T07:35:52.047122Z"
    }
   },
   "outputs": [],
   "source": [
    "import matplotlib.pyplot as plt\n"
   ]
  },
  {
   "cell_type": "code",
   "execution_count": 25,
   "id": "dd7d4b4d1303aef0",
   "metadata": {
    "ExecuteTime": {
     "end_time": "2024-09-11T07:35:54.646565Z",
     "start_time": "2024-09-11T07:35:54.480040Z"
    }
   },
   "outputs": [
    {
     "data": {
      "text/plain": [
       "<matplotlib.image.AxesImage at 0x1b57d678160>"
      ]
     },
     "execution_count": 25,
     "metadata": {},
     "output_type": "execute_result"
    },
    {
     "data": {
      "image/png": "[encoded data removed]",
      "text/plain": [
       "<Figure size 640x480 with 1 Axes>"
      ]
     },
     "metadata": {},
     "output_type": "display_data"
    }
   ],
   "source": [
    "plt.imshow(np.array(X_test[560]).reshape(28, 28))\n"
   ]
  },
  {
   "cell_type": "code",
   "execution_count": 26,
   "id": "573e0ac7039701e7",
   "metadata": {
    "ExecuteTime": {
     "end_time": "2024-09-11T07:35:57.868113Z",
     "start_time": "2024-09-11T07:35:57.809215Z"
    }
   },
   "outputs": [
    {
     "name": "stdout",
     "output_type": "stream",
     "text": [
      "1/1 [==============================] - 0s 14ms/step\n"
     ]
    },
    {
     "data": {
      "text/plain": [
       "9"
      ]
     },
     "execution_count": 26,
     "metadata": {},
     "output_type": "execute_result"
    }
   ],
   "source": [
    "recognise(X_test[560])\n"
   ]
  }
 ],
 "metadata": {
  "kernelspec": {
   "display_name": "Python 3 (ipykernel)",
   "language": "python",
   "name": "python3"
  },
  "language_info": {
   "codemirror_mode": {
    "name": "ipython",
    "version": 3
   },
   "file_extension": ".py",
   "mimetype": "text/x-python",
   "name": "python",
   "nbconvert_exporter": "python",
   "pygments_lexer": "ipython3",
   "version": "3.9.18"
  }
 },
 "nbformat": 4,
 "nbformat_minor": 5
}
