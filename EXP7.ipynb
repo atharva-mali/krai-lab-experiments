{
 "cells": [
  {
   "metadata": {
    "ExecuteTime": {
     "end_time": "2024-08-31T06:18:59.048912Z",
     "start_time": "2024-08-31T06:18:59.042669Z"
    }
   },
   "cell_type": "code",
   "source": [
    "import numpy as np\n",
    "import pandas as pd\n",
    "import matplotlib.pyplot as plt\n",
    "import scipy.stats as stats"
   ],
   "id": "d8eade6c7d14ffac",
   "outputs": [],
   "execution_count": 2
  },
  {
   "metadata": {
    "ExecuteTime": {
     "end_time": "2024-08-31T06:19:10.500506Z",
     "start_time": "2024-08-31T06:19:10.429246Z"
    }
   },
   "cell_type": "code",
   "source": [
    "np.random.seed(12)\n",
    "\n",
    "races =   [\"asian\",\"black\",\"hispanic\",\"other\",\"white\"]\n",
    "\n",
    "# Generate random data\n",
    "voter_race = np.random.choice(a= races,\n",
    "                              p = [0.05, 0.15 ,0.25, 0.05, 0.5],\n",
    "                              size=1000)\n",
    "\n",
    "voter_age = stats.poisson.rvs(loc=18,\n",
    "                              mu=30,\n",
    "                              size=1000)\n",
    "\n",
    "# Group age data by race\n",
    "voter_frame = pd.DataFrame({\"race\":voter_race,\"age\":voter_age})\n",
    "groups = voter_frame.groupby(\"race\").groups\n",
    "\n",
    "# Etract individual groups\n",
    "asian = voter_age[groups[\"asian\"]]\n",
    "black = voter_age[groups[\"black\"]]\n",
    "hispanic = voter_age[groups[\"hispanic\"]]\n",
    "other = voter_age[groups[\"other\"]]\n",
    "white = voter_age[groups[\"white\"]]\n",
    "\n",
    "# Perform the ANOVA\n",
    "stats.f_oneway(asian, black, hispanic, other, white)"
   ],
   "id": "d56c1d4b595cbd63",
   "outputs": [
    {
     "data": {
      "text/plain": [
       "F_onewayResult(statistic=1.7744689357329695, pvalue=0.13173183201930463)"
      ]
     },
     "execution_count": 4,
     "metadata": {},
     "output_type": "execute_result"
    }
   ],
   "execution_count": 4
  },
  {
   "metadata": {
    "ExecuteTime": {
     "end_time": "2024-08-31T06:20:09.175041Z",
     "start_time": "2024-08-31T06:20:07.863405Z"
    }
   },
   "cell_type": "code",
   "source": [
    "import statsmodels.api as sm\n",
    "from statsmodels.formula.api import ols\n",
    "\n",
    "model = ols('age ~ race',                 # Model formula\n",
    "            data = voter_frame).fit()\n",
    "                \n",
    "anova_result = sm.stats.anova_lm(model, typ=2)\n",
    "print (anova_result)"
   ],
   "id": "2085288365d03cb7",
   "outputs": [
    {
     "name": "stdout",
     "output_type": "stream",
     "text": [
      "             sum_sq     df         F    PR(>F)\n",
      "race        199.369    4.0  1.774469  0.131732\n",
      "Residual  27948.102  995.0       NaN       NaN\n"
     ]
    }
   ],
   "execution_count": 5
  },
  {
   "metadata": {
    "ExecuteTime": {
     "end_time": "2024-08-31T06:20:11.049371Z",
     "start_time": "2024-08-31T06:20:11.023614Z"
    }
   },
   "cell_type": "code",
   "source": [
    "np.random.seed(12)\n",
    "\n",
    "# Generate random data\n",
    "voter_race = np.random.choice(a= races,\n",
    "                              p = [0.05, 0.15 ,0.25, 0.05, 0.5],\n",
    "                              size=1000)\n",
    "\n",
    "# Use a different distribution for white ages\n",
    "white_ages = stats.poisson.rvs(loc=18, \n",
    "                              mu=32,\n",
    "                              size=1000)\n",
    "\n",
    "voter_age = stats.poisson.rvs(loc=18,\n",
    "                              mu=30,\n",
    "                              size=1000)\n",
    "\n",
    "voter_age = np.where(voter_race==\"white\", white_ages, voter_age)\n",
    "\n",
    "# Group age data by race\n",
    "voter_frame = pd.DataFrame({\"race\":voter_race,\"age\":voter_age})\n",
    "groups = voter_frame.groupby(\"race\").groups   \n",
    "\n",
    "# Extract individual groups\n",
    "asian = voter_age[groups[\"asian\"]]\n",
    "black = voter_age[groups[\"black\"]]\n",
    "hispanic = voter_age[groups[\"hispanic\"]]\n",
    "other = voter_age[groups[\"other\"]]\n",
    "white = voter_age[groups[\"white\"]]\n",
    "\n",
    "# Perform the ANOVA\n",
    "stats.f_oneway(asian, black, hispanic, other, white)"
   ],
   "id": "5e5c680c5d85e4d9",
   "outputs": [
    {
     "data": {
      "text/plain": [
       "F_onewayResult(statistic=10.164699828386366, pvalue=4.5613242113994585e-08)"
      ]
     },
     "execution_count": 6,
     "metadata": {},
     "output_type": "execute_result"
    }
   ],
   "execution_count": 6
  },
  {
   "metadata": {
    "ExecuteTime": {
     "end_time": "2024-08-31T06:20:26.530217Z",
     "start_time": "2024-08-31T06:20:26.478183Z"
    }
   },
   "cell_type": "code",
   "source": [
    "# Alternate method\n",
    "model = ols('age ~ race',                 # Model formula\n",
    "            data = voter_frame).fit()\n",
    "                \n",
    "anova_result = sm.stats.anova_lm(model, typ=2)\n",
    "print (anova_result)"
   ],
   "id": "dca08e394cf40b6e",
   "outputs": [
    {
     "name": "stdout",
     "output_type": "stream",
     "text": [
      "                sum_sq     df        F        PR(>F)\n",
      "race       1284.123213    4.0  10.1647  4.561324e-08\n",
      "Residual  31424.995787  995.0      NaN           NaN\n"
     ]
    }
   ],
   "execution_count": 7
  },
  {
   "metadata": {
    "ExecuteTime": {
     "end_time": "2024-08-31T06:20:40.376024Z",
     "start_time": "2024-08-31T06:20:40.324725Z"
    }
   },
   "cell_type": "code",
   "source": [
    "# Get all race pairs\n",
    "race_pairs = []\n",
    "\n",
    "for race1 in range(4):\n",
    "    for race2  in range(race1+1,5):\n",
    "        race_pairs.append((races[race1], races[race2]))\n",
    "\n",
    "# Conduct t-test on each pair\n",
    "for race1, race2 in race_pairs: \n",
    "    print(race1, race2)\n",
    "    print(stats.ttest_ind(voter_age[groups[race1]], \n",
    "                          voter_age[groups[race2]]))"
   ],
   "id": "61c74ffdf1e4fce6",
   "outputs": [
    {
     "name": "stdout",
     "output_type": "stream",
     "text": [
      "asian black\n",
      "TtestResult(statistic=0.8386446909747979, pvalue=0.4027281369339345, df=189.0)\n",
      "asian hispanic\n",
      "TtestResult(statistic=-0.42594691924932293, pvalue=0.6704669004240726, df=286.0)\n",
      "asian other\n",
      "TtestResult(statistic=0.9795284739636, pvalue=0.3298877500095151, df=92.0)\n",
      "asian white\n",
      "TtestResult(statistic=-2.318108811252288, pvalue=0.020804701566400217, df=557.0)\n",
      "black hispanic\n",
      "TtestResult(statistic=-1.9527839210712925, pvalue=0.05156197171952594, df=389.0)\n",
      "black other\n",
      "TtestResult(statistic=0.28025754367057176, pvalue=0.7795770111117659, df=195.0)\n",
      "black white\n",
      "TtestResult(statistic=-5.379303881281834, pvalue=1.0394212166624012e-07, df=660.0)\n",
      "hispanic other\n",
      "TtestResult(statistic=1.5853626170340225, pvalue=0.11396630528484336, df=292.0)\n",
      "hispanic white\n",
      "TtestResult(statistic=-3.5160312714115376, pvalue=0.0004641298649066684, df=757.0)\n",
      "other white\n",
      "TtestResult(statistic=-3.763809322077872, pvalue=0.00018490576317593065, df=563.0)\n"
     ]
    }
   ],
   "execution_count": 8
  },
  {
   "metadata": {
    "ExecuteTime": {
     "end_time": "2024-08-31T06:20:59.960830Z",
     "start_time": "2024-08-31T06:20:58.224650Z"
    }
   },
   "cell_type": "code",
   "source": [
    "from statsmodels.stats.multicomp import pairwise_tukeyhsd\n",
    "\n",
    "tukey = pairwise_tukeyhsd(endog=voter_age,     # Data\n",
    "                          groups=voter_race,   # Groups\n",
    "                          alpha=0.05)          # Significance level\n",
    "\n",
    "tukey.plot_simultaneous()    # Plot group confidence intervals\n",
    "plt.vlines(x=49.57,ymin=-0.5,ymax=4.5, color=\"red\")\n",
    "\n",
    "tukey.summary()              # See test summary"
   ],
   "id": "509541f01572a532",
   "outputs": [
    {
     "data": {
      "text/plain": [
       "<class 'statsmodels.iolib.table.SimpleTable'>"
      ],
      "text/html": [
       "<table class=\"simpletable\">\n",
       "<caption>Multiple Comparison of Means - Tukey HSD, FWER=0.05</caption>\n",
       "<tr>\n",
       "   <th>group1</th>   <th>group2</th>  <th>meandiff</th>  <th>p-adj</th>  <th>lower</th>   <th>upper</th> <th>reject</th>\n",
       "</tr>\n",
       "<tr>\n",
       "    <td>asian</td>    <td>black</td>   <td>-0.8032</td> <td>0.9208</td> <td>-3.4423</td>  <td>1.836</td>  <td>False</td>\n",
       "</tr>\n",
       "<tr>\n",
       "    <td>asian</td>  <td>hispanic</td>  <td>0.4143</td>  <td>0.9915</td> <td>-2.1011</td> <td>2.9297</td>  <td>False</td>\n",
       "</tr>\n",
       "<tr>\n",
       "    <td>asian</td>    <td>other</td>   <td>-1.0645</td> <td>0.8906</td> <td>-4.2391</td>  <td>2.11</td>   <td>False</td>\n",
       "</tr>\n",
       "<tr>\n",
       "    <td>asian</td>    <td>white</td>   <td>1.9547</td>  <td>0.1751</td> <td>-0.4575</td> <td>4.3668</td>  <td>False</td>\n",
       "</tr>\n",
       "<tr>\n",
       "    <td>black</td>  <td>hispanic</td>  <td>1.2175</td>  <td>0.2318</td> <td>-0.386</td>   <td>2.821</td>  <td>False</td>\n",
       "</tr>\n",
       "<tr>\n",
       "    <td>black</td>    <td>other</td>   <td>-0.2614</td> <td>0.9986</td> <td>-2.7757</td>  <td>2.253</td>  <td>False</td>\n",
       "</tr>\n",
       "<tr>\n",
       "    <td>black</td>    <td>white</td>   <td>2.7579</td>    <td>0.0</td>  <td>1.3217</td>   <td>4.194</td>  <td>True</td> \n",
       "</tr>\n",
       "<tr>\n",
       "  <td>hispanic</td>   <td>other</td>   <td>-1.4789</td> <td>0.4374</td> <td>-3.863</td>  <td>0.9053</td>  <td>False</td>\n",
       "</tr>\n",
       "<tr>\n",
       "  <td>hispanic</td>   <td>white</td>   <td>1.5404</td>   <td>0.004</td> <td>0.3468</td>   <td>2.734</td>  <td>True</td> \n",
       "</tr>\n",
       "<tr>\n",
       "    <td>other</td>    <td>white</td>   <td>3.0192</td>  <td>0.0028</td> <td>0.7443</td>  <td>5.2941</td>  <td>True</td> \n",
       "</tr>\n",
       "</table>"
      ],
      "text/latex": "\\begin{center}\n\\begin{tabular}{ccccccc}\n\\toprule\n\\textbf{group1} & \\textbf{group2} & \\textbf{meandiff} & \\textbf{p-adj} & \\textbf{lower} & \\textbf{upper} & \\textbf{reject}  \\\\\n\\midrule\n     asian      &      black      &      -0.8032      &     0.9208     &    -3.4423     &     1.836      &      False       \\\\\n     asian      &     hispanic    &       0.4143      &     0.9915     &    -2.1011     &     2.9297     &      False       \\\\\n     asian      &      other      &      -1.0645      &     0.8906     &    -4.2391     &      2.11      &      False       \\\\\n     asian      &      white      &       1.9547      &     0.1751     &    -0.4575     &     4.3668     &      False       \\\\\n     black      &     hispanic    &       1.2175      &     0.2318     &     -0.386     &     2.821      &      False       \\\\\n     black      &      other      &      -0.2614      &     0.9986     &    -2.7757     &     2.253      &      False       \\\\\n     black      &      white      &       2.7579      &      0.0       &     1.3217     &     4.194      &       True       \\\\\n    hispanic    &      other      &      -1.4789      &     0.4374     &     -3.863     &     0.9053     &      False       \\\\\n    hispanic    &      white      &       1.5404      &     0.004      &     0.3468     &     2.734      &       True       \\\\\n     other      &      white      &       3.0192      &     0.0028     &     0.7443     &     5.2941     &       True       \\\\\n\\bottomrule\n\\end{tabular}\n%\\caption{Multiple Comparison of Means - Tukey HSD, FWER=0.05}\n\\end{center}"
     },
     "execution_count": 9,
     "metadata": {},
     "output_type": "execute_result"
    },
    {
     "data": {
      "text/plain": [
       "<Figure size 1000x600 with 1 Axes>"
      ],
      "image/png": "[encoded data removed]"
     },
     "metadata": {},
     "output_type": "display_data"
    }
   ],
   "execution_count": 9
  }
 ],
 "metadata": {
  "kernelspec": {
   "display_name": "Python 3",
   "language": "python",
   "name": "python3"
  },
  "language_info": {
   "codemirror_mode": {
    "name": "ipython",
    "version": 2
   },
   "file_extension": ".py",
   "mimetype": "text/x-python",
   "name": "python",
   "nbconvert_exporter": "python",
   "pygments_lexer": "ipython2",
   "version": "2.7.6"
  }
 },
 "nbformat": 4,
 "nbformat_minor": 5
}
