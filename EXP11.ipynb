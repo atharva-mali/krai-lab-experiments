{
 "cells": [
  {
   "metadata": {
    "ExecuteTime": {
     "end_time": "2024-09-11T09:05:15.931240Z",
     "start_time": "2024-09-11T09:05:15.918737Z"
    }
   },
   "cell_type": "code",
   "source": [
    "import nltk\n",
    "from nltk.tokenize import word_tokenize\n",
    "from nltk.corpus import stopwords\n",
    "from collections import Counter\n",
    "\n",
    "text = \"\"\"Text mining, also known as text analytics, is the process of extracting meaningful information from unstructured text data. \n",
    "Here's a simple Python program that demonstrates basic text mining tasks using the popular Natural Language Toolkit (NLTK) library. \n",
    "In this example, we'll perform tasks like tokenization, stop-word removal, and word frequency analysis on a sample text.\"\"\"\n"
   ],
   "id": "5c449e9dc25aed53",
   "outputs": [],
   "execution_count": 16
  },
  {
   "metadata": {
    "ExecuteTime": {
     "end_time": "2024-09-11T09:05:15.947155Z",
     "start_time": "2024-09-11T09:05:15.931240Z"
    }
   },
   "cell_type": "code",
   "source": "tokens = word_tokenize(text)\n",
   "id": "9577c77b2624f540",
   "outputs": [],
   "execution_count": 17
  },
  {
   "metadata": {
    "ExecuteTime": {
     "end_time": "2024-09-11T09:05:15.963009Z",
     "start_time": "2024-09-11T09:05:15.947155Z"
    }
   },
   "cell_type": "code",
   "source": "tokens = [word.lower() for word in tokens if word.isalnum()]\n",
   "id": "2fb720915b54d938",
   "outputs": [],
   "execution_count": 18
  },
  {
   "metadata": {
    "ExecuteTime": {
     "end_time": "2024-09-11T09:05:16.528041Z",
     "start_time": "2024-09-11T09:05:15.963517Z"
    }
   },
   "cell_type": "code",
   "source": [
    "nltk.download('stopwords')\n",
    "stop_words = set(stopwords.words('english'))\n",
    "filtered_tokens = [word for word in tokens if word not in stop_words]\n"
   ],
   "id": "3aeb5d9dd38dc5e7",
   "outputs": [
    {
     "name": "stderr",
     "output_type": "stream",
     "text": [
      "[nltk_data] Downloading package stopwords to\n",
      "[nltk_data]     C:\\Users\\athar\\AppData\\Roaming\\nltk_data...\n",
      "[nltk_data]   Unzipping corpora\\stopwords.zip.\n"
     ]
    }
   ],
   "execution_count": 19
  },
  {
   "metadata": {
    "ExecuteTime": {
     "end_time": "2024-09-11T09:05:16.543821Z",
     "start_time": "2024-09-11T09:05:16.528041Z"
    }
   },
   "cell_type": "code",
   "source": "word_freq = Counter(filtered_tokens)\n",
   "id": "798365f5d21033bf",
   "outputs": [],
   "execution_count": 20
  },
  {
   "metadata": {
    "ExecuteTime": {
     "end_time": "2024-09-11T09:05:16.559619Z",
     "start_time": "2024-09-11T09:05:16.545599Z"
    }
   },
   "cell_type": "code",
   "source": [
    "print(\"Most common words in the text:\")\n",
    "for word, freq in word_freq.most_common(10):\n",
    "    print(f\"{word}: {freq}\")\n"
   ],
   "id": "9136b4805a330394",
   "outputs": [
    {
     "name": "stdout",
     "output_type": "stream",
     "text": [
      "Most common words in the text:\n",
      "text: 5\n",
      "mining: 2\n",
      "tasks: 2\n",
      "also: 1\n",
      "known: 1\n",
      "analytics: 1\n",
      "process: 1\n",
      "extracting: 1\n",
      "meaningful: 1\n",
      "information: 1\n"
     ]
    }
   ],
   "execution_count": 21
  }
 ],
 "metadata": {
  "kernelspec": {
   "display_name": "Python 3",
   "language": "python",
   "name": "python3"
  },
  "language_info": {
   "codemirror_mode": {
    "name": "ipython",
    "version": 2
   },
   "file_extension": ".py",
   "mimetype": "text/x-python",
   "name": "python",
   "nbconvert_exporter": "python",
   "pygments_lexer": "ipython2",
   "version": "2.7.6"
  }
 },
 "nbformat": 4,
 "nbformat_minor": 5
}
