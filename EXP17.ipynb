{
 "cells": [
  {
   "metadata": {
    "ExecuteTime": {
     "end_time": "2024-09-11T08:44:53.238625Z",
     "start_time": "2024-09-11T08:44:53.230190Z"
    }
   },
   "cell_type": "code",
   "source": [
    "import requests\n",
    "from bs4 import BeautifulSoup\n",
    "import csv"
   ],
   "id": "e97133815e9cbb38",
   "outputs": [],
   "execution_count": 26
  },
  {
   "metadata": {
    "ExecuteTime": {
     "end_time": "2024-09-11T08:44:55.712150Z",
     "start_time": "2024-09-11T08:44:53.240929Z"
    }
   },
   "cell_type": "code",
   "source": [
    "URL = 'http://www.values.com/inspirational-quotes'\n",
    "r = requests.get(URL)"
   ],
   "id": "346d2ba11eaad797",
   "outputs": [],
   "execution_count": 27
  },
  {
   "metadata": {
    "ExecuteTime": {
     "end_time": "2024-09-11T08:44:55.743824Z",
     "start_time": "2024-09-11T08:44:55.713670Z"
    }
   },
   "cell_type": "code",
   "source": "soup = BeautifulSoup(r.content, 'html.parser')",
   "id": "551cebd76f3149af",
   "outputs": [],
   "execution_count": 28
  },
  {
   "metadata": {
    "ExecuteTime": {
     "end_time": "2024-09-11T08:44:55.759540Z",
     "start_time": "2024-09-11T08:44:55.743824Z"
    }
   },
   "cell_type": "code",
   "source": "quotes = []",
   "id": "9069949fba1474b5",
   "outputs": [],
   "execution_count": 29
  },
  {
   "metadata": {
    "ExecuteTime": {
     "end_time": "2024-09-11T08:44:55.775186Z",
     "start_time": "2024-09-11T08:44:55.761175Z"
    }
   },
   "cell_type": "code",
   "source": "soup.find('div', attrs={'id': 'all_quotes'})",
   "id": "96652f240c2ea6de",
   "outputs": [
    {
     "data": {
      "text/plain": [
       "<div class=\"row\" id=\"all_quotes\">\n",
       "<div class=\"col-6 col-lg-4 text-center margin-30px-bottom sm-margin-30px-top\">\n",
       "<a href=\"/inspirational-quotes/8271-magic-is-believing-in-yourself-if-you-can-do\"><img alt=\"Magic is believing in yourself, if you can do that, you can make anything happen. #&lt;Author:0x00007f0f141f7258&gt;\" class=\"margin-10px-bottom shadow\" height=\"310\" src=\"https://assets.passiton.com/quotes/quote_artwork/8271/medium/20240911_wednesday_quote.jpg\" width=\"310\"/></a>\n",
       "<h5 class=\"value_on_red\"><a href=\"/inspirational-quotes/8271-magic-is-believing-in-yourself-if-you-can-do\">BELIEVE IN YOURSELF</a></h5>\n",
       "</div>\n",
       "<div class=\"col-6 col-lg-4 text-center margin-30px-bottom sm-margin-30px-top\">\n",
       "<a href=\"/inspirational-quotes/6966-it-is-our-privilege-and-our-adventure-to\"><img alt=\"It is our privilege and our adventure to discover our own special light. #&lt;Author:0x00007f0f141e53a0&gt;\" class=\"margin-10px-bottom shadow\" height=\"310\" src=\"https://assets.passiton.com/quotes/quote_artwork/6966/medium/20240910_tuesday_quote.jpg\" width=\"310\"/></a>\n",
       "<h5 class=\"value_on_red\"><a href=\"/inspirational-quotes/6966-it-is-our-privilege-and-our-adventure-to\">BELIEVE IN YOURSELF</a></h5>\n",
       "</div>\n",
       "<div class=\"col-6 col-lg-4 text-center margin-30px-bottom sm-margin-30px-top\">\n",
       "<a href=\"/inspirational-quotes/7677-always-be-yourself-and-have-faith-in-yourself\"><img alt=\"Always be yourself and have faith in yourself. #&lt;Author:0x00007f0f143ab9a0&gt;\" class=\"margin-10px-bottom shadow\" height=\"310\" src=\"https://assets.passiton.com/quotes/quote_artwork/7677/medium/20240909_monday_quote.jpg\" width=\"310\"/></a>\n",
       "<h5 class=\"value_on_red\"><a href=\"/inspirational-quotes/7677-always-be-yourself-and-have-faith-in-yourself\">BELIEVE IN YOURSELF</a></h5>\n",
       "</div>\n",
       "<div class=\"col-6 col-lg-4 text-center margin-30px-bottom sm-margin-30px-top\">\n",
       "<a href=\"/inspirational-quotes/4704-work-hard-be-kind-and-amazing-things-will\"><img alt=\"Work hard, be kind, and amazing things will happen. #&lt;Author:0x00007f0f1421e470&gt;\" class=\"margin-10px-bottom shadow\" height=\"310\" src=\"https://assets.passiton.com/quotes/quote_artwork/4704/medium/20240906_friday_quote.jpg\" width=\"310\"/></a>\n",
       "<h5 class=\"value_on_red\"><a href=\"/inspirational-quotes/4704-work-hard-be-kind-and-amazing-things-will\">HARD WORK</a></h5>\n",
       "</div>\n",
       "<div class=\"col-6 col-lg-4 text-center margin-30px-bottom sm-margin-30px-top\">\n",
       "<a href=\"/inspirational-quotes/8378-doing-the-best-at-this-moment-puts-you-in-the\"><img alt=\"Doing the best at this moment puts you in the best place for the next moment. #&lt;Author:0x00007f0f143e8968&gt;\" class=\"margin-10px-bottom shadow\" height=\"310\" src=\"https://assets.passiton.com/quotes/quote_artwork/8378/medium/20240905_thursday_quote.jpg\" width=\"310\"/></a>\n",
       "<h5 class=\"value_on_red\"><a href=\"/inspirational-quotes/8378-doing-the-best-at-this-moment-puts-you-in-the\">HARD WORK</a></h5>\n",
       "</div>\n",
       "<div class=\"col-6 col-lg-4 text-center margin-30px-bottom sm-margin-30px-top\">\n",
       "<a href=\"/inspirational-quotes/3549-if-it-wasnt-hard-everyone-would-do-it-its-the\"><img alt=\"If it wasn't hard, everyone would do it. It's the hard that makes it great. #&lt;Author:0x00007f0f143d3270&gt;\" class=\"margin-10px-bottom shadow\" height=\"310\" src=\"https://assets.passiton.com/quotes/quote_artwork/3549/medium/20240904_wednesday_quote.jpg\" width=\"310\"/></a>\n",
       "<h5 class=\"value_on_red\"><a href=\"/inspirational-quotes/3549-if-it-wasnt-hard-everyone-would-do-it-its-the\">HARD WORK</a></h5>\n",
       "</div>\n",
       "<div class=\"col-6 col-lg-4 text-center margin-30px-bottom sm-margin-30px-top\">\n",
       "<a href=\"/inspirational-quotes/7750-a-dream-doesnt-become-reality-through-magic-it\"><img alt=\"A dream doesn't become reality through magic; it takes sweat, determination, and hard work. #&lt;Author:0x00007f0f143c1b60&gt;\" class=\"margin-10px-bottom shadow\" height=\"310\" src=\"https://assets.passiton.com/quotes/quote_artwork/7750/medium/20240903_tuesday_quote.jpg\" width=\"310\"/></a>\n",
       "<h5 class=\"value_on_red\"><a href=\"/inspirational-quotes/7750-a-dream-doesnt-become-reality-through-magic-it\">HARD WORK</a></h5>\n",
       "</div>\n",
       "<div class=\"col-6 col-lg-4 text-center margin-30px-bottom sm-margin-30px-top\">\n",
       "<a href=\"/inspirational-quotes/6188-far-and-away-the-best-prize-that-life-offers-is\"><img alt=\"Far and away the best prize that life offers is the chance to work hard at work worth doing.  #&lt;Author:0x00007f0f1426b590&gt;\" class=\"margin-10px-bottom shadow\" height=\"310\" src=\"https://assets.passiton.com/quotes/quote_artwork/6188/medium/20240902_monday_quote.jpg\" width=\"310\"/></a>\n",
       "<h5 class=\"value_on_red\"><a href=\"/inspirational-quotes/6188-far-and-away-the-best-prize-that-life-offers-is\">HARD WORK</a></h5>\n",
       "</div>\n",
       "<div class=\"col-6 col-lg-4 text-center margin-30px-bottom sm-margin-30px-top\">\n",
       "<a href=\"/inspirational-quotes/7169-have-patience-with-all-things-but-first-of\"><img alt=\"Have patience with all things, but, first of all with yourself. #&lt;Author:0x00007f0f143f88b8&gt;\" class=\"margin-10px-bottom shadow\" height=\"310\" src=\"https://assets.passiton.com/quotes/quote_artwork/7169/medium/20240830_friday_quote.jpg\" width=\"310\"/></a>\n",
       "<h5 class=\"value_on_red\"><a href=\"/inspirational-quotes/7169-have-patience-with-all-things-but-first-of\">PATIENCE</a></h5>\n",
       "</div>\n",
       "<div class=\"col-6 col-lg-4 text-center margin-30px-bottom sm-margin-30px-top\">\n",
       "<a href=\"/inspirational-quotes/7725-patience-is-not-simply-the-ability-to-wait-its\"><img alt=\"Patience is not simply the ability to wait—it's how we behave while we're waiting.  #&lt;Author:0x00007f0f142a2478&gt;\" class=\"margin-10px-bottom shadow\" height=\"310\" src=\"https://assets.passiton.com/quotes/quote_artwork/7725/medium/20240829_thursday_quote.jpg\" width=\"310\"/></a>\n",
       "<h5 class=\"value_on_red\"><a href=\"/inspirational-quotes/7725-patience-is-not-simply-the-ability-to-wait-its\">PATIENCE</a></h5>\n",
       "</div>\n",
       "<div class=\"col-6 col-lg-4 text-center margin-30px-bottom sm-margin-30px-top\">\n",
       "<a href=\"/inspirational-quotes/3605-patience-and-tenacity-of-purpose-are-worth-more\"><img alt=\"Patience and tenacity of purpose are worth more than twice their weight of cleverness. #&lt;Author:0x00007f0f1428ba48&gt;\" class=\"margin-10px-bottom shadow\" height=\"310\" src=\"https://assets.passiton.com/quotes/quote_artwork/3605/medium/20240828_wednesday_quote.jpg\" width=\"310\"/></a>\n",
       "<h5 class=\"value_on_red\"><a href=\"/inspirational-quotes/3605-patience-and-tenacity-of-purpose-are-worth-more\">PATIENCE</a></h5>\n",
       "</div>\n",
       "<div class=\"col-6 col-lg-4 text-center margin-30px-bottom sm-margin-30px-top\">\n",
       "<a href=\"/inspirational-quotes/3015-great-difficulties-may-be-surmounted-by\"><img alt=\"Great difficulties may be surmounted by patience and perseverance. #&lt;Author:0x00007f0f1f8b6048&gt;\" class=\"margin-10px-bottom shadow\" height=\"310\" src=\"https://assets.passiton.com/quotes/quote_artwork/3015/medium/20240827_tuesday_quote.jpg\" width=\"310\"/></a>\n",
       "<h5 class=\"value_on_red\"><a href=\"/inspirational-quotes/3015-great-difficulties-may-be-surmounted-by\">PATIENCE</a></h5>\n",
       "</div>\n",
       "<div class=\"col-6 col-lg-4 text-center margin-30px-bottom sm-margin-30px-top\">\n",
       "<a href=\"/inspirational-quotes/7726-have-patience-all-things-are-difficult-before\"><img alt=\"Have patience. All things are difficult before they become easy.  #&lt;Author:0x00007f0f142c2e08&gt;\" class=\"margin-10px-bottom shadow\" height=\"310\" src=\"https://assets.passiton.com/quotes/quote_artwork/7726/medium/20240826_monday_quote.jpg\" width=\"310\"/></a>\n",
       "<h5 class=\"value_on_red\"><a href=\"/inspirational-quotes/7726-have-patience-all-things-are-difficult-before\">PATIENCE</a></h5>\n",
       "</div>\n",
       "<div class=\"col-6 col-lg-4 text-center margin-30px-bottom sm-margin-30px-top\">\n",
       "<a href=\"/inspirational-quotes/4043-compassion-is-the-greatest-form-of-love-humans\"><img alt=\"Compassion is the greatest form of love humans have to offer. #&lt;Author:0x00007f0f142b1108&gt;\" class=\"margin-10px-bottom shadow\" height=\"310\" src=\"https://assets.passiton.com/quotes/quote_artwork/4043/medium/20240823_friday_quote.jpg\" width=\"310\"/></a>\n",
       "<h5 class=\"value_on_red\"><a href=\"/inspirational-quotes/4043-compassion-is-the-greatest-form-of-love-humans\">COMPASSION</a></h5>\n",
       "</div>\n",
       "<div class=\"col-6 col-lg-4 text-center margin-30px-bottom sm-margin-30px-top\">\n",
       "<a href=\"/inspirational-quotes/5157-what-do-we-live-for-if-it-is-not-to-make-life\"><img alt=\"What do we live for; if it is not to make life less difficult for each other?\n",
       " #&lt;Author:0x00007f0f1f8d6848&gt;\" class=\"margin-10px-bottom shadow\" height=\"310\" src=\"https://assets.passiton.com/quotes/quote_artwork/5157/medium/20240822_thursday_quote.jpg\" width=\"310\"/></a>\n",
       "<h5 class=\"value_on_red\"><a href=\"/inspirational-quotes/5157-what-do-we-live-for-if-it-is-not-to-make-life\">COMPASSION</a></h5>\n",
       "</div>\n",
       "<div class=\"col-6 col-lg-4 text-center margin-30px-bottom sm-margin-30px-top\">\n",
       "<a href=\"/inspirational-quotes/4435-if-you-are-going-to-be-compassionate-be\"><img alt=\"If you are going to be compassionate, be prepared for action! #&lt;Author:0x00007f0f1f8c45d0&gt;\" class=\"margin-10px-bottom shadow\" height=\"310\" src=\"https://assets.passiton.com/quotes/quote_artwork/4435/medium/20240821_wednesday_quote.jpg\" width=\"310\"/></a>\n",
       "<h5 class=\"value_on_red\"><a href=\"/inspirational-quotes/4435-if-you-are-going-to-be-compassionate-be\">COMPASSION</a></h5>\n",
       "</div>\n",
       "<div class=\"col-6 col-lg-4 text-center margin-30px-bottom sm-margin-30px-top\">\n",
       "<a href=\"/inspirational-quotes/8201-compassion-for-others-begins-with-kindness-to\"><img alt=\"Compassion for others begins with kindness to ourselves. #&lt;Author:0x00007f0f1f90e478&gt;\" class=\"margin-10px-bottom shadow\" height=\"310\" src=\"https://assets.passiton.com/quotes/quote_artwork/8201/medium/20240820_tuesday_quote.jpg\" width=\"310\"/></a>\n",
       "<h5 class=\"value_on_red\"><a href=\"/inspirational-quotes/8201-compassion-for-others-begins-with-kindness-to\">COMPASSION</a></h5>\n",
       "</div>\n",
       "<div class=\"col-6 col-lg-4 text-center margin-30px-bottom sm-margin-30px-top\">\n",
       "<a href=\"/inspirational-quotes/8089-true-compassion-means-not-only-feeling-anothers\"><img alt=\"True compassion means not only feeling another's pain but also being moved to help relieve it.  #&lt;Author:0x00007f0f1f8f7b38&gt;\" class=\"margin-10px-bottom shadow\" height=\"310\" src=\"https://assets.passiton.com/quotes/quote_artwork/8089/medium/20240819_monday_quote.jpg\" width=\"310\"/></a>\n",
       "<h5 class=\"value_on_red\"><a href=\"/inspirational-quotes/8089-true-compassion-means-not-only-feeling-anothers\">COMPASSION</a></h5>\n",
       "</div>\n",
       "<div class=\"col-6 col-lg-4 text-center margin-30px-bottom sm-margin-30px-top\">\n",
       "<a href=\"/inspirational-quotes/8267-the-best-teachers-are-those-who-show-you-where\"><img alt=\"The best teachers are those who show you where to look but don’t tell you what to see. #&lt;Author:0x00007f0f1f8552c0&gt;\" class=\"margin-10px-bottom shadow\" height=\"310\" src=\"https://assets.passiton.com/quotes/quote_artwork/8267/medium/20240816_friday_quote.jpg\" width=\"310\"/></a>\n",
       "<h5 class=\"value_on_red\"><a href=\"/inspirational-quotes/8267-the-best-teachers-are-those-who-show-you-where\">EDUCATION</a></h5>\n",
       "</div>\n",
       "<div class=\"col-6 col-lg-4 text-center margin-30px-bottom sm-margin-30px-top\">\n",
       "<a href=\"/inspirational-quotes/7664-one-child-one-teacher-one-book-one-pen-can\"><img alt=\"One child, one teacher, one book, one pen can change the world. #&lt;Author:0x00007f0f1f83e2f0&gt;\" class=\"margin-10px-bottom shadow\" height=\"310\" src=\"https://assets.passiton.com/quotes/quote_artwork/7664/medium/20240815_thursday_quote.jpg\" width=\"310\"/></a>\n",
       "<h5 class=\"value_on_red\"><a href=\"/inspirational-quotes/7664-one-child-one-teacher-one-book-one-pen-can\">EDUCATION</a></h5>\n",
       "</div>\n",
       "<div class=\"col-6 col-lg-4 text-center margin-30px-bottom sm-margin-30px-top\">\n",
       "<a href=\"/inspirational-quotes/7930-education-is-the-way-to-move-mountains-to\"><img alt=\"Education is the way to move mountains, to build bridges, to change the world. #&lt;Author:0x00007f0f1f82ca00&gt;\" class=\"margin-10px-bottom shadow\" height=\"310\" src=\"https://assets.passiton.com/quotes/quote_artwork/7930/medium/20240814_wednesday_quote.jpg\" width=\"310\"/></a>\n",
       "<h5 class=\"value_on_red\"><a href=\"/inspirational-quotes/7930-education-is-the-way-to-move-mountains-to\">EDUCATION</a></h5>\n",
       "</div>\n",
       "<div class=\"col-6 col-lg-4 text-center margin-30px-bottom sm-margin-30px-top\">\n",
       "<a href=\"/inspirational-quotes/7932-children-must-be-taught-how-to-think-not-what\"><img alt=\"Children must be taught how to think, not what to think. #&lt;Author:0x00007f0f1f876768&gt;\" class=\"margin-10px-bottom shadow\" height=\"310\" src=\"https://assets.passiton.com/quotes/quote_artwork/7932/medium/20240813_tuesday_quote.jpg\" width=\"310\"/></a>\n",
       "<h5 class=\"value_on_red\"><a href=\"/inspirational-quotes/7932-children-must-be-taught-how-to-think-not-what\">EDUCATION</a></h5>\n",
       "</div>\n",
       "<div class=\"col-6 col-lg-4 text-center margin-30px-bottom sm-margin-30px-top\">\n",
       "<a href=\"/inspirational-quotes/6517-the-purpose-of-education-is-to-replace-an-empty\"><img alt=\"The purpose of education is to replace an empty mind with an open one.\n",
       " #&lt;Author:0x00007f0f1f864810&gt;\" class=\"margin-10px-bottom shadow\" height=\"310\" src=\"https://assets.passiton.com/quotes/quote_artwork/6517/medium/20240812_monday_quote.jpg\" width=\"310\"/></a>\n",
       "<h5 class=\"value_on_red\"><a href=\"/inspirational-quotes/6517-the-purpose-of-education-is-to-replace-an-empty\">EDUCATION</a></h5>\n",
       "</div>\n",
       "<div class=\"col-6 col-lg-4 text-center margin-30px-bottom sm-margin-30px-top\">\n",
       "<a href=\"/inspirational-quotes/8274-grit-is-the-grain-of-character\"><img alt=\"Grit is the grain of character. #&lt;Author:0x00007f0f1fa69ef8&gt;\" class=\"margin-10px-bottom shadow\" height=\"310\" src=\"https://assets.passiton.com/quotes/quote_artwork/8274/medium/20240809_friday_quote.jpg\" width=\"310\"/></a>\n",
       "<h5 class=\"value_on_red\"><a href=\"/inspirational-quotes/8274-grit-is-the-grain-of-character\">GRIT</a></h5>\n",
       "</div>\n",
       "<div class=\"col-6 col-lg-4 text-center margin-30px-bottom sm-margin-30px-top\">\n",
       "<a href=\"/inspirational-quotes/7788-above-everything-else-ive-done-ive-always-said\"><img alt=\"Above everything else I've done, I've always said I've had more guts than I've got talent. #&lt;Author:0x00007f0f1f897f80&gt;\" class=\"margin-10px-bottom shadow\" height=\"310\" src=\"https://assets.passiton.com/quotes/quote_artwork/7788/medium/20240808_thursday_quote.jpg\" width=\"310\"/></a>\n",
       "<h5 class=\"value_on_red\"><a href=\"/inspirational-quotes/7788-above-everything-else-ive-done-ive-always-said\">GRIT</a></h5>\n",
       "</div>\n",
       "<div class=\"col-6 col-lg-4 text-center margin-30px-bottom sm-margin-30px-top\">\n",
       "<a href=\"/inspirational-quotes/7786-every-great-story-happened-when-someone-decided\"><img alt=\"Every great story happened when someone decided not to give up. #&lt;Author:0x00007f0f1faa2000&gt;\" class=\"margin-10px-bottom shadow\" height=\"310\" src=\"https://assets.passiton.com/quotes/quote_artwork/7786/medium/20240807_wednesday_quote.jpg\" width=\"310\"/></a>\n",
       "<h5 class=\"value_on_red\"><a href=\"/inspirational-quotes/7786-every-great-story-happened-when-someone-decided\">GRIT</a></h5>\n",
       "</div>\n",
       "<div class=\"col-6 col-lg-4 text-center margin-30px-bottom sm-margin-30px-top\">\n",
       "<a href=\"/inspirational-quotes/7784-what-is-grit-grit-is-refusing-to-give-up-it-s\"><img alt=\"What is grit? Grit is refusing to give up. It’s persistence. It’s making your own luck. #&lt;Author:0x00007f0f1fa90710&gt;\" class=\"margin-10px-bottom shadow\" height=\"310\" src=\"https://assets.passiton.com/quotes/quote_artwork/7784/medium/20240806_tuesday_quote.jpg\" width=\"310\"/></a>\n",
       "<h5 class=\"value_on_red\"><a href=\"/inspirational-quotes/7784-what-is-grit-grit-is-refusing-to-give-up-it-s\">GRIT</a></h5>\n",
       "</div>\n",
       "<div class=\"col-6 col-lg-4 text-center margin-30px-bottom sm-margin-30px-top\">\n",
       "<a href=\"/inspirational-quotes/3870-we-all-have-dreams-but-in-order-to-make-dreams\"><img alt=\"We all have dreams. But in order to make dreams come into reality, it takes an awful lot of determination, dedication, self-discipline, and effort. #&lt;Author:0x00007f0f1fa7a4b0&gt;\" class=\"margin-10px-bottom shadow\" height=\"310\" src=\"https://assets.passiton.com/quotes/quote_artwork/3870/medium/20240805_monday_quote.jpg\" width=\"310\"/></a>\n",
       "<h5 class=\"value_on_red\"><a href=\"/inspirational-quotes/3870-we-all-have-dreams-but-in-order-to-make-dreams\">GRIT</a></h5>\n",
       "</div>\n",
       "<div class=\"col-6 col-lg-4 text-center margin-30px-bottom sm-margin-30px-top\">\n",
       "<a href=\"/inspirational-quotes/3255-life-is-an-adventure-in-forgiveness\"><img alt=\"Life is an adventure in forgiveness. #&lt;Author:0x00007f0f1fac89d0&gt;\" class=\"margin-10px-bottom shadow\" height=\"310\" src=\"https://assets.passiton.com/quotes/quote_artwork/3255/medium/20240802_friday_quote.jpg\" width=\"310\"/></a>\n",
       "<h5 class=\"value_on_red\"><a href=\"/inspirational-quotes/3255-life-is-an-adventure-in-forgiveness\">FORGIVENESS</a></h5>\n",
       "</div>\n",
       "<div class=\"col-6 col-lg-4 text-center margin-30px-bottom sm-margin-30px-top\">\n",
       "<a href=\"/inspirational-quotes/8365-mistakes-are-always-forgivable-if-one-has-the\"><img alt=\"Mistakes are always forgivable, if one has the courage to admit them. #&lt;Author:0x00007f0f1fab2040&gt;\" class=\"margin-10px-bottom shadow\" height=\"310\" src=\"https://assets.passiton.com/quotes/quote_artwork/8365/medium/20240801_thursday_quote.jpg\" width=\"310\"/></a>\n",
       "<h5 class=\"value_on_red\"><a href=\"/inspirational-quotes/8365-mistakes-are-always-forgivable-if-one-has-the\">FORGIVENESS</a></h5>\n",
       "</div>\n",
       "<div class=\"col-6 col-lg-4 text-center margin-30px-bottom sm-margin-30px-top\">\n",
       "<a href=\"/inspirational-quotes/4448-without-forgiveness-there-is-no-future\"><img alt=\"Without forgiveness, there is no future. #&lt;Author:0x00007f0f14024e08&gt;\" class=\"margin-10px-bottom shadow\" height=\"310\" src=\"https://assets.passiton.com/quotes/quote_artwork/4448/medium/20240731_wednesday_quote.jpg\" width=\"310\"/></a>\n",
       "<h5 class=\"value_on_red\"><a href=\"/inspirational-quotes/4448-without-forgiveness-there-is-no-future\">FORGIVENESS</a></h5>\n",
       "</div>\n",
       "<div class=\"col-6 col-lg-4 text-center margin-30px-bottom sm-margin-30px-top\">\n",
       "<a href=\"/inspirational-quotes/8206-it-s-not-an-easy-journey-to-get-to-a-place\"><img alt=\"It’s not an easy journey, to get to a place where you forgive people. But it is such a powerful place, because it frees you. #&lt;Author:0x00007f0f1400f378&gt;\" class=\"margin-10px-bottom shadow\" height=\"310\" src=\"https://assets.passiton.com/quotes/quote_artwork/8206/medium/20240730_tuesday_quote.jpg\" width=\"310\"/></a>\n",
       "<h5 class=\"value_on_red\"><a href=\"/inspirational-quotes/8206-it-s-not-an-easy-journey-to-get-to-a-place\">FORGIVENESS</a></h5>\n",
       "</div>\n",
       "<div class=\"col-6 col-lg-4 text-center margin-30px-bottom sm-margin-30px-top\">\n",
       "<a href=\"/inspirational-quotes/7634-forgive-yourself-for-your-faults-and-your\"><img alt=\"Forgive yourself for your faults and your mistakes and move on. #&lt;Author:0x00007f0f1fad99b0&gt;\" class=\"margin-10px-bottom shadow\" height=\"310\" src=\"https://assets.passiton.com/quotes/quote_artwork/7634/medium/20240729_monday_quote.jpg\" width=\"310\"/></a>\n",
       "<h5 class=\"value_on_red\"><a href=\"/inspirational-quotes/7634-forgive-yourself-for-your-faults-and-your\">FORGIVENESS</a></h5>\n",
       "</div>\n",
       "</div>"
      ]
     },
     "execution_count": 30,
     "metadata": {},
     "output_type": "execute_result"
    }
   ],
   "execution_count": 30
  },
  {
   "metadata": {
    "ExecuteTime": {
     "end_time": "2024-09-11T08:44:55.790830Z",
     "start_time": "2024-09-11T08:44:55.777569Z"
    }
   },
   "cell_type": "code",
   "source": [
    "for row in soup.find_all_next('div', attrs={'class': 'col-6 col-lg-3 text-center margin-30px-bottom sm-margin-30px-top'}):\n",
    "    quote = {}\n",
    "    quote['theme'] = row.h5.text\n",
    "    quote['url'] = row.a['href']\n",
    "    quote['img'] = row.img['src']\n",
    "    quote['lines'] = row.img['alt'].split(\" #\")[0]\n",
    "    quote['author'] = row.img['alt'].split(\" #\")[1]\n",
    "    quotes.append(quote)\n"
   ],
   "id": "5f580cb0cbc659e0",
   "outputs": [],
   "execution_count": 31
  },
  {
   "metadata": {
    "ExecuteTime": {
     "end_time": "2024-09-11T08:44:55.806466Z",
     "start_time": "2024-09-11T08:44:55.790830Z"
    }
   },
   "cell_type": "code",
   "source": [
    "filename = 'inspirational_quotes.csv'\n",
    "with open(filename, 'w', newline='') as f:\n",
    "    w = csv.DictWriter(f, ['theme', 'url', 'img', 'lines', 'author'])\n",
    "    w.writeheader()\n",
    "    for quote in quotes:\n",
    "        w.writerow(quote)"
   ],
   "id": "398f8d34ad82f9d4",
   "outputs": [],
   "execution_count": 32
  }
 ],
 "metadata": {
  "kernelspec": {
   "display_name": "Python 3",
   "language": "python",
   "name": "python3"
  },
  "language_info": {
   "codemirror_mode": {
    "name": "ipython",
    "version": 2
   },
   "file_extension": ".py",
   "mimetype": "text/x-python",
   "name": "python",
   "nbconvert_exporter": "python",
   "pygments_lexer": "ipython2",
   "version": "2.7.6"
  }
 },
 "nbformat": 4,
 "nbformat_minor": 5
}
