{
 "cells": [
  {
   "cell_type": "code",
   "id": "initial_id",
   "metadata": {
    "collapsed": true,
    "ExecuteTime": {
     "end_time": "2024-09-10T07:16:45.519615Z",
     "start_time": "2024-09-10T07:16:45.511763Z"
    }
   },
   "source": [
    "import numpy as np\n",
    "import pandas as pd\n",
    "import matplotlib.pyplot as plt"
   ],
   "outputs": [],
   "execution_count": 29
  },
  {
   "metadata": {
    "ExecuteTime": {
     "end_time": "2024-09-10T07:16:45.544985Z",
     "start_time": "2024-09-10T07:16:45.533958Z"
    }
   },
   "cell_type": "code",
   "source": "df = pd.read_csv('Iris.csv')",
   "id": "a8d668b401aa4cb4",
   "outputs": [],
   "execution_count": 30
  },
  {
   "metadata": {
    "ExecuteTime": {
     "end_time": "2024-09-10T07:16:45.560726Z",
     "start_time": "2024-09-10T07:16:45.554341Z"
    }
   },
   "cell_type": "code",
   "source": "df.columns = ['Id', 'SepalLengthCm', 'SepalWidthCm', 'PetalLengthCm', 'PetalWidthCm', 'Species']",
   "id": "f0477cab8b04064",
   "outputs": [],
   "execution_count": 31
  },
  {
   "metadata": {
    "ExecuteTime": {
     "end_time": "2024-09-10T07:16:45.612564Z",
     "start_time": "2024-09-10T07:16:45.605105Z"
    }
   },
   "cell_type": "code",
   "source": [
    "col_names = list(df.columns)\n",
    "predictors = col_names[1:5]  # Features: SepalLengthCm, SepalWidthCm, PetalLengthCm, PetalWidthCm\n",
    "target = col_names[5]        # Target: Species"
   ],
   "id": "42c14d420db44be5",
   "outputs": [],
   "execution_count": 32
  },
  {
   "metadata": {
    "ExecuteTime": {
     "end_time": "2024-09-10T07:16:45.650431Z",
     "start_time": "2024-09-10T07:16:45.640405Z"
    }
   },
   "cell_type": "code",
   "source": [
    "from sklearn.model_selection import train_test_split\n",
    "train, test = train_test_split(df, test_size=0.3, random_state=0)"
   ],
   "id": "4a9d1b4fb9303f6",
   "outputs": [],
   "execution_count": 33
  },
  {
   "metadata": {
    "ExecuteTime": {
     "end_time": "2024-09-10T07:16:45.693338Z",
     "start_time": "2024-09-10T07:16:45.670404Z"
    }
   },
   "cell_type": "code",
   "source": [
    "from sklearn.naive_bayes import GaussianNB\n",
    "\n",
    "# Initialize and train the Gaussian Naive Bayes model\n",
    "Gmodel = GaussianNB()\n",
    "Gmodel.fit(train[predictors], train[target])\n",
    "\n",
    "# Make predictions on both training and test sets\n",
    "train_Gpred = Gmodel.predict(train[predictors])\n",
    "test_Gpred = Gmodel.predict(test[predictors])\n",
    "\n",
    "# Calculate accuracy for training and testing sets\n",
    "train_acc_gau = np.mean(train_Gpred == train[target])\n",
    "test_acc_gau = np.mean(test_Gpred == test[target])"
   ],
   "id": "a61a77917de826aa",
   "outputs": [],
   "execution_count": 34
  },
  {
   "metadata": {
    "ExecuteTime": {
     "end_time": "2024-09-10T07:16:45.704921Z",
     "start_time": "2024-09-10T07:16:45.697354Z"
    }
   },
   "cell_type": "code",
   "source": [
    "print(\"Gaussian Naive Bayes Training Accuracy:\", train_acc_gau)\n",
    "print(\"Gaussian Naive Bayes Test Accuracy:\", test_acc_gau)"
   ],
   "id": "df68f61a93a9ce78",
   "outputs": [
    {
     "name": "stdout",
     "output_type": "stream",
     "text": [
      "Gaussian Naive Bayes Training Accuracy: 0.9428571428571428\n",
      "Gaussian Naive Bayes Test Accuracy: 1.0\n"
     ]
    }
   ],
   "execution_count": 35
  },
  {
   "metadata": {
    "ExecuteTime": {
     "end_time": "2024-09-10T07:16:45.832606Z",
     "start_time": "2024-09-10T07:16:45.707935Z"
    }
   },
   "cell_type": "code",
   "source": [
    "from sklearn.naive_bayes import MultinomialNB\n",
    "\n",
    "# Initialize and train the Multinomial Naive Bayes model\n",
    "Mmodel = MultinomialNB()\n",
    "Mmodel.fit(train[predictors], train[target])\n",
    "\n",
    "# Make predictions on both training and test sets\n",
    "train_Mpred = Mmodel.predict(train[predictors])\n",
    "test_Mpred = Mmodel.predict(test[predictors])\n",
    "\n",
    "# Calculate accuracy for training and testing sets\n",
    "train_acc_multi = np.mean(train_Mpred == train[target])\n",
    "test_acc_multi = np.mean(test_Mpred == test[target])"
   ],
   "id": "ce0bfa839e53b66",
   "outputs": [],
   "execution_count": 36
  },
  {
   "metadata": {
    "ExecuteTime": {
     "end_time": "2024-09-10T07:16:45.846619Z",
     "start_time": "2024-09-10T07:16:45.837624Z"
    }
   },
   "cell_type": "code",
   "source": [
    "print(\"Multinomial Naive Bayes Training Accuracy:\", train_acc_multi)\n",
    "print(\"Multinomial Naive Bayes Test Accuracy:\", test_acc_multi)"
   ],
   "id": "530938cb479fdf95",
   "outputs": [
    {
     "name": "stdout",
     "output_type": "stream",
     "text": [
      "Multinomial Naive Bayes Training Accuracy: 0.7047619047619048\n",
      "Multinomial Naive Bayes Test Accuracy: 0.6\n"
     ]
    }
   ],
   "execution_count": 37
  }
 ],
 "metadata": {
  "kernelspec": {
   "display_name": "Python 3",
   "language": "python",
   "name": "python3"
  },
  "language_info": {
   "codemirror_mode": {
    "name": "ipython",
    "version": 2
   },
   "file_extension": ".py",
   "mimetype": "text/x-python",
   "name": "python",
   "nbconvert_exporter": "python",
   "pygments_lexer": "ipython2",
   "version": "2.7.6"
  }
 },
 "nbformat": 4,
 "nbformat_minor": 5
}
